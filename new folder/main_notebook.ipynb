# Import necessary modules
from data_processing import load_data, sample_data
from model_utils import initialize_model, predict_sentiments
from evaluation_utils import evaluate_performance, save_predictions

# Define file paths
input_file_path = './data/Tweets.csv'
output_file_path = './output/SentimentAnalysisPredictions.csv'

# Load and sample data
data = load_data(input_file_path)
sampled_data = sample_data(data)

# Initialize model and predict sentiments
device = 0 if torch.cuda.is_available() else -1
model = initialize_model(device)
tweets = sampled_data['text'].tolist()
sampled_data['predicted_sentiment'] = predict_sentiments(model, tweets)

# Evaluate performance and save results
report = evaluate_performance(sampled_data['predicted_sentiment'], sampled_data['airline_sentiment'].str.lower().tolist())
print(report)
save_predictions(sampled_data, output_file_path)
